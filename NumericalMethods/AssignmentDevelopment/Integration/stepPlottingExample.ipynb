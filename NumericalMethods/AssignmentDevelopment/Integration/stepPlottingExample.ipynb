{
 "cells": [
  {
   "cell_type": "code",
   "execution_count": 8,
   "metadata": {
    "collapsed": false
   },
   "outputs": [
    {
     "data": {
      "image/png": "[encoded data removed]",
      "text/plain": [
       "<matplotlib.figure.Figure at 0x7fc402c504e0>"
      ]
     },
     "metadata": {},
     "output_type": "display_data"
    }
   ],
   "source": [
    "import numpy as np\n",
    "from numpy import ma\n",
    "import matplotlib.pyplot as plt\n",
    "\n",
    "x = np.arange(1, 7, 0.4)\n",
    "y0 = np.sin(x)\n",
    "y = y0.copy() + 2.5\n",
    "\n",
    "plt.step(x, y, label='pre (default)')\n",
    "\n",
    "y -= 0.5\n",
    "plt.step(x, y, where='mid', label='mid')\n",
    "\n",
    "y -= 0.5\n",
    "plt.step(x, y, where='post', label='post')\n",
    "\n",
    "# y = ma.masked_where((y0 > -0.15) & (y0 < 0.15), y - 0.5)\n",
    "# plt.step(x, y, label='masked (pre)')\n",
    "\n",
    "plt.legend()\n",
    "\n",
    "plt.xlim(0, 7)\n",
    "plt.ylim(-0.5, 4)\n",
    "\n",
    "plt.show()"
   ]
  },
  {
   "cell_type": "code",
   "execution_count": 4,
   "metadata": {
    "collapsed": false
   },
   "outputs": [
    {
     "data": {
      "text/plain": [
       "array([ 3.34147098,  3.48544973,  3.47384763,  3.3084964 ,  3.01550137,\n",
       "        2.64112001,  2.2444589 ,  1.88814211,  1.62842423,  1.506309  ,\n",
       "        1.54107573,  1.72723551,  2.03539782,  2.4169106 ,  2.81154136])"
      ]
     },
     "execution_count": 4,
     "metadata": {},
     "output_type": "execute_result"
    }
   ],
   "source": [
    "y"
   ]
  },
  {
   "cell_type": "code",
   "execution_count": 7,
   "metadata": {
    "collapsed": false
   },
   "outputs": [
    {
     "data": {
      "text/plain": [
       "array([ 2.84147098,  2.98544973,  2.97384763,  2.8084964 ,  2.51550137,\n",
       "        2.14112001,  1.7444589 ,  1.38814211,  1.12842423,  1.006309  ,\n",
       "        1.04107573,  1.22723551,  1.53539782,  1.9169106 ,  2.31154136])"
      ]
     },
     "execution_count": 7,
     "metadata": {},
     "output_type": "execute_result"
    }
   ],
   "source": [
    "y"
   ]
  },
  {
   "cell_type": "code",
   "execution_count": 9,
   "metadata": {
    "collapsed": false
   },
   "outputs": [
    {
     "data": {
      "text/plain": [
       "array([ 2.34147098,  2.48544973,  2.47384763,  2.3084964 ,  2.01550137,\n",
       "        1.64112001,  1.2444589 ,  0.88814211,  0.62842423,  0.506309  ,\n",
       "        0.54107573,  0.72723551,  1.03539782,  1.4169106 ,  1.81154136])"
      ]
     },
     "execution_count": 9,
     "metadata": {},
     "output_type": "execute_result"
    }
   ],
   "source": [
    "y"
   ]
  },
  {
   "cell_type": "code",
   "execution_count": 5,
   "metadata": {
    "collapsed": false
   },
   "outputs": [
    {
     "data": {
      "text/plain": [
       "array([ 1. ,  1.4,  1.8,  2.2,  2.6,  3. ,  3.4,  3.8,  4.2,  4.6,  5. ,\n",
       "        5.4,  5.8,  6.2,  6.6])"
      ]
     },
     "execution_count": 5,
     "metadata": {},
     "output_type": "execute_result"
    }
   ],
   "source": [
    "x"
   ]
  },
  {
   "cell_type": "code",
   "execution_count": null,
   "metadata": {
    "collapsed": true
   },
   "outputs": [],
   "source": []
  }
 ],
 "metadata": {
  "kernelspec": {
   "display_name": "Python [conda env:jupyterNumpyMatplotlibSympy]",
   "language": "python",
   "name": "conda-env-jupyterNumpyMatplotlibSympy-py"
  },
  "language_info": {
   "codemirror_mode": {
    "name": "ipython",
    "version": 3
   },
   "file_extension": ".py",
   "mimetype": "text/x-python",
   "name": "python",
   "nbconvert_exporter": "python",
   "pygments_lexer": "ipython3",
   "version": "3.5.2"
  }
 },
 "nbformat": 4,
 "nbformat_minor": 2
}
